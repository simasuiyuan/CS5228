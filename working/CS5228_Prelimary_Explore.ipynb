{
 "cells": [
  {
   "cell_type": "code",
   "execution_count": 1,
   "metadata": {},
   "outputs": [],
   "source": [
    "import os\n",
    "import sys\n",
    "import zipfile\n",
    "import pandas as pd\n",
    "import numpy as np\n",
    "import plotly.express as px\n",
    "import matplotlib.pyplot as plt\n",
    "\n",
    "%matplotlib inline\n",
    "\n",
    "sys.path.append('../')\n",
    "from src.data_preprocess import DataPreprocessor\n",
    "\n",
    "pd.set_option('display.max_colwidth', 2000)\n",
    "import warnings\n",
    "warnings.filterwarnings('ignore')\n",
    "\n",
    "%load_ext autoreload\n",
    "%autoreload 2"
   ]
  },
  {
   "cell_type": "code",
   "execution_count": 2,
   "metadata": {},
   "outputs": [
    {
     "data": {
      "text/html": [
       "<div>\n",
       "<style scoped>\n",
       "    .dataframe tbody tr th:only-of-type {\n",
       "        vertical-align: middle;\n",
       "    }\n",
       "\n",
       "    .dataframe tbody tr th {\n",
       "        vertical-align: top;\n",
       "    }\n",
       "\n",
       "    .dataframe thead th {\n",
       "        text-align: right;\n",
       "    }\n",
       "</style>\n",
       "<table border=\"1\" class=\"dataframe\">\n",
       "  <thead>\n",
       "    <tr style=\"text-align: right;\">\n",
       "      <th></th>\n",
       "      <th>listing_id</th>\n",
       "      <th>title</th>\n",
       "      <th>address</th>\n",
       "      <th>property_name</th>\n",
       "      <th>property_type</th>\n",
       "      <th>tenure</th>\n",
       "      <th>built_year</th>\n",
       "      <th>num_beds</th>\n",
       "      <th>num_baths</th>\n",
       "      <th>size_sqft</th>\n",
       "      <th>...</th>\n",
       "      <th>furnishing</th>\n",
       "      <th>available_unit_types</th>\n",
       "      <th>total_num_units</th>\n",
       "      <th>property_details_url</th>\n",
       "      <th>lat</th>\n",
       "      <th>lng</th>\n",
       "      <th>elevation</th>\n",
       "      <th>subzone</th>\n",
       "      <th>planning_area</th>\n",
       "      <th>price</th>\n",
       "    </tr>\n",
       "  </thead>\n",
       "  <tbody>\n",
       "    <tr>\n",
       "      <th>0</th>\n",
       "      <td>122881</td>\n",
       "      <td>hdb flat for sale in 866 yishun street 81</td>\n",
       "      <td>sembawang / yishun (d27)</td>\n",
       "      <td>866 yishun street 81</td>\n",
       "      <td>hdb 4 rooms</td>\n",
       "      <td>NaN</td>\n",
       "      <td>1988.0</td>\n",
       "      <td>3.0</td>\n",
       "      <td>2.0</td>\n",
       "      <td>1115</td>\n",
       "      <td>...</td>\n",
       "      <td>unspecified</td>\n",
       "      <td>NaN</td>\n",
       "      <td>116.0</td>\n",
       "      <td>https://www.99.co/singapore/hdb/866-yishun-street-81-adxawp85buupmsq7gwdjverc</td>\n",
       "      <td>1.414399</td>\n",
       "      <td>103.837196</td>\n",
       "      <td>0</td>\n",
       "      <td>yishun south</td>\n",
       "      <td>yishun</td>\n",
       "      <td>514500.0</td>\n",
       "    </tr>\n",
       "    <tr>\n",
       "      <th>1</th>\n",
       "      <td>259374</td>\n",
       "      <td>hdb flat for sale in 506b serangoon north avenue 4</td>\n",
       "      <td>hougang / punggol / sengkang (d19)</td>\n",
       "      <td>hdb-serangoon estate</td>\n",
       "      <td>hdb</td>\n",
       "      <td>99-year leasehold</td>\n",
       "      <td>1992.0</td>\n",
       "      <td>4.0</td>\n",
       "      <td>2.0</td>\n",
       "      <td>1575</td>\n",
       "      <td>...</td>\n",
       "      <td>unspecified</td>\n",
       "      <td>1, 2, 3, 4, 5, 6 br</td>\n",
       "      <td>NaN</td>\n",
       "      <td>https://www.99.co/singapore/hdb/hdbserangoon-estate-demrpm6ryc3l9buf846erprb</td>\n",
       "      <td>1.372597</td>\n",
       "      <td>103.875625</td>\n",
       "      <td>0</td>\n",
       "      <td>serangoon north</td>\n",
       "      <td>serangoon</td>\n",
       "      <td>995400.0</td>\n",
       "    </tr>\n",
       "  </tbody>\n",
       "</table>\n",
       "<p>2 rows × 21 columns</p>\n",
       "</div>"
      ],
      "text/plain": [
       "   listing_id                                               title  \\\n",
       "0      122881           hdb flat for sale in 866 yishun street 81   \n",
       "1      259374  hdb flat for sale in 506b serangoon north avenue 4   \n",
       "\n",
       "                              address         property_name property_type  \\\n",
       "0            sembawang / yishun (d27)  866 yishun street 81   hdb 4 rooms   \n",
       "1  hougang / punggol / sengkang (d19)  hdb-serangoon estate           hdb   \n",
       "\n",
       "              tenure  built_year  num_beds  num_baths  size_sqft  ...  \\\n",
       "0                NaN      1988.0       3.0        2.0       1115  ...   \n",
       "1  99-year leasehold      1992.0       4.0        2.0       1575  ...   \n",
       "\n",
       "    furnishing available_unit_types total_num_units  \\\n",
       "0  unspecified                  NaN           116.0   \n",
       "1  unspecified  1, 2, 3, 4, 5, 6 br             NaN   \n",
       "\n",
       "                                                            property_details_url  \\\n",
       "0  https://www.99.co/singapore/hdb/866-yishun-street-81-adxawp85buupmsq7gwdjverc   \n",
       "1   https://www.99.co/singapore/hdb/hdbserangoon-estate-demrpm6ryc3l9buf846erprb   \n",
       "\n",
       "        lat         lng  elevation          subzone planning_area     price  \n",
       "0  1.414399  103.837196          0     yishun south        yishun  514500.0  \n",
       "1  1.372597  103.875625          0  serangoon north     serangoon  995400.0  \n",
       "\n",
       "[2 rows x 21 columns]"
      ]
     },
     "execution_count": 2,
     "metadata": {},
     "output_type": "execute_result"
    }
   ],
   "source": [
    "train_df = pd.read_csv('../input/train.csv')\n",
    "train_df.head(2)"
   ]
  },
  {
   "cell_type": "code",
   "execution_count": 46,
   "metadata": {},
   "outputs": [
    {
     "name": "stdout",
     "output_type": "stream",
     "text": [
      "(20254, 21)\n"
     ]
    },
    {
     "data": {
      "text/plain": [
       "listing_id                  0\n",
       "title                       0\n",
       "address                     0\n",
       "property_name               0\n",
       "property_type               0\n",
       "tenure                   1723\n",
       "built_year                922\n",
       "num_beds                   80\n",
       "num_baths                 434\n",
       "size_sqft                   0\n",
       "floor_level             16746\n",
       "furnishing                  0\n",
       "available_unit_types     1441\n",
       "total_num_units          5652\n",
       "property_details_url        0\n",
       "lat                         0\n",
       "lng                         0\n",
       "elevation                   0\n",
       "subzone                   113\n",
       "planning_area             113\n",
       "price                       0\n",
       "dtype: int64"
      ]
     },
     "metadata": {},
     "output_type": "display_data"
    },
    {
     "name": "stderr",
     "output_type": "stream",
     "text": [
      "Processing Function 'preprocess_planning_area' executed in 0.0110s: 100%|██████████| 13/13 [00:37<00:00,  2.91s/it]       "
     ]
    },
    {
     "name": "stdout",
     "output_type": "stream",
     "text": [
      "(16128, 17)\n"
     ]
    },
    {
     "name": "stderr",
     "output_type": "stream",
     "text": [
      "\n"
     ]
    },
    {
     "data": {
      "text/plain": [
       "built_year                   494\n",
       "num_beds                       0\n",
       "num_baths                      1\n",
       "size_sqft                      0\n",
       "lat                            0\n",
       "lng                            0\n",
       "price                          0\n",
       "property_type_cat              0\n",
       "tenure_cat                     0\n",
       "floor_level_cat                0\n",
       "total_level_cat                0\n",
       "furnishing_cat                 0\n",
       "number_of_types_available      0\n",
       "has_studio                     0\n",
       "min_br_available               0\n",
       "max_br_available               0\n",
       "planning_area_cat              0\n",
       "dtype: int64"
      ]
     },
     "metadata": {},
     "output_type": "display_data"
    }
   ],
   "source": [
    "print(train_df.shape)\n",
    "display(train_df.isnull().sum())\n",
    "train_df_clean = DataPreprocessor.data_preprocessing_v1(train_df, test=False, uncertain=False, drop_na=False, remove_original_attributes=True)\n",
    "print(train_df_clean.shape)\n",
    "display(train_df_clean.isnull().sum())"
   ]
  },
  {
   "cell_type": "code",
   "execution_count": 64,
   "metadata": {},
   "outputs": [
    {
     "data": {
      "text/html": [
       "<div>\n",
       "<style scoped>\n",
       "    .dataframe tbody tr th:only-of-type {\n",
       "        vertical-align: middle;\n",
       "    }\n",
       "\n",
       "    .dataframe tbody tr th {\n",
       "        vertical-align: top;\n",
       "    }\n",
       "\n",
       "    .dataframe thead th {\n",
       "        text-align: right;\n",
       "    }\n",
       "</style>\n",
       "<table border=\"1\" class=\"dataframe\">\n",
       "  <thead>\n",
       "    <tr style=\"text-align: right;\">\n",
       "      <th></th>\n",
       "      <th>built_year</th>\n",
       "      <th>num_beds</th>\n",
       "      <th>num_baths</th>\n",
       "      <th>size_sqft</th>\n",
       "      <th>lat</th>\n",
       "      <th>lng</th>\n",
       "      <th>price</th>\n",
       "      <th>property_type_cat</th>\n",
       "      <th>tenure_cat</th>\n",
       "      <th>floor_level_cat</th>\n",
       "      <th>total_level_cat</th>\n",
       "      <th>furnishing_cat</th>\n",
       "      <th>number_of_types_available</th>\n",
       "      <th>has_studio</th>\n",
       "      <th>min_br_available</th>\n",
       "      <th>max_br_available</th>\n",
       "      <th>planning_area_cat</th>\n",
       "    </tr>\n",
       "  </thead>\n",
       "  <tbody>\n",
       "    <tr>\n",
       "      <th>0</th>\n",
       "      <td>2022.0</td>\n",
       "      <td>1.0</td>\n",
       "      <td>1.0</td>\n",
       "      <td>495</td>\n",
       "      <td>1.31629</td>\n",
       "      <td>103.840576</td>\n",
       "      <td>1424800.0</td>\n",
       "      <td>5.0</td>\n",
       "      <td>2.0</td>\n",
       "      <td>7.0</td>\n",
       "      <td>6.0</td>\n",
       "      <td>1.0</td>\n",
       "      <td>4</td>\n",
       "      <td>1</td>\n",
       "      <td>1</td>\n",
       "      <td>3</td>\n",
       "      <td>0.0</td>\n",
       "    </tr>\n",
       "    <tr>\n",
       "      <th>1</th>\n",
       "      <td>2022.0</td>\n",
       "      <td>1.0</td>\n",
       "      <td>1.0</td>\n",
       "      <td>495</td>\n",
       "      <td>1.31629</td>\n",
       "      <td>103.840576</td>\n",
       "      <td>1433200.0</td>\n",
       "      <td>5.0</td>\n",
       "      <td>2.0</td>\n",
       "      <td>7.0</td>\n",
       "      <td>6.0</td>\n",
       "      <td>3.0</td>\n",
       "      <td>4</td>\n",
       "      <td>1</td>\n",
       "      <td>1</td>\n",
       "      <td>3</td>\n",
       "      <td>0.0</td>\n",
       "    </tr>\n",
       "    <tr>\n",
       "      <th>2</th>\n",
       "      <td>2022.0</td>\n",
       "      <td>1.0</td>\n",
       "      <td>1.0</td>\n",
       "      <td>495</td>\n",
       "      <td>1.31629</td>\n",
       "      <td>103.840576</td>\n",
       "      <td>1424800.0</td>\n",
       "      <td>6.0</td>\n",
       "      <td>2.0</td>\n",
       "      <td>7.0</td>\n",
       "      <td>6.0</td>\n",
       "      <td>3.0</td>\n",
       "      <td>4</td>\n",
       "      <td>1</td>\n",
       "      <td>1</td>\n",
       "      <td>3</td>\n",
       "      <td>0.0</td>\n",
       "    </tr>\n",
       "    <tr>\n",
       "      <th>3</th>\n",
       "      <td>2022.0</td>\n",
       "      <td>1.0</td>\n",
       "      <td>1.0</td>\n",
       "      <td>495</td>\n",
       "      <td>1.31629</td>\n",
       "      <td>103.840576</td>\n",
       "      <td>1424800.0</td>\n",
       "      <td>5.0</td>\n",
       "      <td>2.0</td>\n",
       "      <td>0.0</td>\n",
       "      <td>6.0</td>\n",
       "      <td>1.0</td>\n",
       "      <td>4</td>\n",
       "      <td>1</td>\n",
       "      <td>1</td>\n",
       "      <td>3</td>\n",
       "      <td>0.0</td>\n",
       "    </tr>\n",
       "    <tr>\n",
       "      <th>4</th>\n",
       "      <td>2022.0</td>\n",
       "      <td>1.0</td>\n",
       "      <td>1.0</td>\n",
       "      <td>495</td>\n",
       "      <td>1.31629</td>\n",
       "      <td>103.840576</td>\n",
       "      <td>1390700.0</td>\n",
       "      <td>5.0</td>\n",
       "      <td>2.0</td>\n",
       "      <td>1.0</td>\n",
       "      <td>6.0</td>\n",
       "      <td>3.0</td>\n",
       "      <td>4</td>\n",
       "      <td>1</td>\n",
       "      <td>1</td>\n",
       "      <td>3</td>\n",
       "      <td>0.0</td>\n",
       "    </tr>\n",
       "  </tbody>\n",
       "</table>\n",
       "</div>"
      ],
      "text/plain": [
       "   built_year  num_beds  num_baths  size_sqft      lat         lng      price  \\\n",
       "0      2022.0       1.0        1.0        495  1.31629  103.840576  1424800.0   \n",
       "1      2022.0       1.0        1.0        495  1.31629  103.840576  1433200.0   \n",
       "2      2022.0       1.0        1.0        495  1.31629  103.840576  1424800.0   \n",
       "3      2022.0       1.0        1.0        495  1.31629  103.840576  1424800.0   \n",
       "4      2022.0       1.0        1.0        495  1.31629  103.840576  1390700.0   \n",
       "\n",
       "   property_type_cat  tenure_cat  floor_level_cat  total_level_cat  \\\n",
       "0                5.0         2.0              7.0              6.0   \n",
       "1                5.0         2.0              7.0              6.0   \n",
       "2                6.0         2.0              7.0              6.0   \n",
       "3                5.0         2.0              0.0              6.0   \n",
       "4                5.0         2.0              1.0              6.0   \n",
       "\n",
       "   furnishing_cat  number_of_types_available  has_studio  min_br_available  \\\n",
       "0             1.0                          4           1                 1   \n",
       "1             3.0                          4           1                 1   \n",
       "2             3.0                          4           1                 1   \n",
       "3             1.0                          4           1                 1   \n",
       "4             3.0                          4           1                 1   \n",
       "\n",
       "   max_br_available  planning_area_cat  \n",
       "0                 3                0.0  \n",
       "1                 3                0.0  \n",
       "2                 3                0.0  \n",
       "3                 3                0.0  \n",
       "4                 3                0.0  "
      ]
     },
     "execution_count": 64,
     "metadata": {},
     "output_type": "execute_result"
    }
   ],
   "source": [
    "# train_df_model = train_df_clean.drop(['lat', 'lng'], axis=1,inplace=False).reset_index(drop=True)\n",
    "train_df_model = train_df_clean\n",
    "train_df_model.head()"
   ]
  },
  {
   "cell_type": "code",
   "execution_count": 65,
   "metadata": {},
   "outputs": [],
   "source": [
    "import xgboost as xgb\n",
    "from sklearn.ensemble import RandomForestRegressor\n",
    "from sklearn.metrics import r2_score\n",
    "from hyperopt import fmin, hp, tpe, STATUS_OK, STATUS_FAIL, Trials\n",
    "from sklearn.model_selection import train_test_split\n",
    "from sklearn.metrics import mean_squared_error\n",
    "from sklearn.model_selection import cross_val_score\n",
    "from sklearn.model_selection import RepeatedKFold\n",
    "\n",
    "train_df_model_nonNa = train_df_model.dropna()\n",
    "\n",
    "X_nonNa = train_df_model_nonNa.drop('price', axis=1,inplace=False).astype(float)\n",
    "y_nonNa = train_df_model_nonNa['price'].astype(float)\n",
    "X = train_df_model.drop('price', axis=1,inplace=False).astype(float)\n",
    "y = train_df_model['price'].astype(float)"
   ]
  },
  {
   "cell_type": "code",
   "execution_count": 6,
   "metadata": {},
   "outputs": [],
   "source": [
    "# from sklearn.tree import DecisionTreeRegressor\n",
    "# from explainerdashboard import RegressionExplainer\n",
    "\n",
    "# X_train, X_test, y_train, y_test = train_test_split(X_nonNa, y_nonNa)\n",
    "# decision_reg = DecisionTreeRegressor(max_depth=10)\n",
    "# decision_reg.fit(X_train, y_train)\n",
    "\n",
    "# explainer = RegressionExplainer(decision_reg, X_test, y_test)\n",
    "# from explainerdashboard import ExplainerDashboard\n",
    "# ExplainerDashboard(explainer).run()"
   ]
  },
  {
   "cell_type": "code",
   "execution_count": 7,
   "metadata": {},
   "outputs": [
    {
     "name": "stdout",
     "output_type": "stream",
     "text": [
      "Changing class type to XGBRegressionExplainer...\n",
      "Generating self.shap_explainer = shap.TreeExplainer(model)\n",
      "Building ExplainerDashboard..\n",
      "Warning: calculating shap interaction values can be slow! Pass shap_interaction=False to remove interactions tab.\n",
      "Generating layout...\n",
      "Calculating shap values...\n",
      "Calculating predictions...\n",
      "Calculating residuals...\n",
      "Calculating absolute residuals...\n",
      "Warning: mean-absolute-percentage-error is very large (2.745381849897566e+19), you can hide it from the metrics by passing parameter show_metrics...\n",
      "Calculating shap interaction values...\n",
      "Reminder: TreeShap computational complexity is O(TLD^2), where T is the number of trees, L is the maximum number of leaves in any tree and D the maximal depth of any tree. So reducing these will speed up the calculation.\n",
      "Warning: mean-absolute-percentage-error is very large (2.745381849897566e+19), you can hide it from the metrics by passing parameter show_metrics...\n",
      "Warning: mean-absolute-percentage-error is very large (2.745381849897566e+19), you can hide it from the metrics by passing parameter show_metrics...\n",
      "Generating xgboost model dump...\n",
      "Calculating dependencies...\n",
      "Calculating importances...\n",
      "Calculating ShadowDecTree for each individual decision tree...\n",
      "Reminder: you can store the explainer (including calculated dependencies) with explainer.dump('explainer.joblib') and reload with e.g. ClassifierExplainer.from_file('explainer.joblib')\n",
      "Registering callbacks...\n",
      "Starting ExplainerDashboard inline (terminate it with ExplainerDashboard.terminate(8050))\n"
     ]
    },
    {
     "data": {
      "text/html": [
       "\n",
       "        <iframe\n",
       "            width=\"1000\"\n",
       "            height=\"800\"\n",
       "            src=\"http://127.0.0.1:8050/\"\n",
       "            frameborder=\"0\"\n",
       "            allowfullscreen\n",
       "            \n",
       "        ></iframe>\n",
       "        "
      ],
      "text/plain": [
       "<IPython.lib.display.IFrame at 0x1d940237d00>"
      ]
     },
     "metadata": {},
     "output_type": "display_data"
    }
   ],
   "source": [
    "from sklearn.tree import DecisionTreeRegressor\n",
    "from explainerdashboard import RegressionExplainer\n",
    "\n",
    "X_train, X_test, y_train, y_test = train_test_split(X, y)\n",
    "xgb_regressor = xgb.XGBRegressor(\n",
    "    n_estimators =300, \n",
    "    max_depth = 8)\n",
    "\n",
    "xgb_regressor.fit(X_train, y_train)\n",
    "\n",
    "explainer = RegressionExplainer(xgb_regressor, X_test, y_test)\n",
    "from explainerdashboard import ExplainerDashboard\n",
    "ExplainerDashboard(explainer, mode='inline').run()"
   ]
  },
  {
   "cell_type": "markdown",
   "metadata": {},
   "source": [
    "# test prediction"
   ]
  },
  {
   "cell_type": "code",
   "execution_count": 66,
   "metadata": {},
   "outputs": [
    {
     "data": {
      "text/html": [
       "<div>\n",
       "<style scoped>\n",
       "    .dataframe tbody tr th:only-of-type {\n",
       "        vertical-align: middle;\n",
       "    }\n",
       "\n",
       "    .dataframe tbody tr th {\n",
       "        vertical-align: top;\n",
       "    }\n",
       "\n",
       "    .dataframe thead th {\n",
       "        text-align: right;\n",
       "    }\n",
       "</style>\n",
       "<table border=\"1\" class=\"dataframe\">\n",
       "  <thead>\n",
       "    <tr style=\"text-align: right;\">\n",
       "      <th></th>\n",
       "      <th>listing_id</th>\n",
       "      <th>title</th>\n",
       "      <th>address</th>\n",
       "      <th>property_name</th>\n",
       "      <th>property_type</th>\n",
       "      <th>tenure</th>\n",
       "      <th>built_year</th>\n",
       "      <th>num_beds</th>\n",
       "      <th>num_baths</th>\n",
       "      <th>size_sqft</th>\n",
       "      <th>floor_level</th>\n",
       "      <th>furnishing</th>\n",
       "      <th>available_unit_types</th>\n",
       "      <th>total_num_units</th>\n",
       "      <th>property_details_url</th>\n",
       "      <th>lat</th>\n",
       "      <th>lng</th>\n",
       "      <th>elevation</th>\n",
       "      <th>subzone</th>\n",
       "      <th>planning_area</th>\n",
       "    </tr>\n",
       "  </thead>\n",
       "  <tbody>\n",
       "    <tr>\n",
       "      <th>0</th>\n",
       "      <td>777912</td>\n",
       "      <td>1 bed condo for sale in the gazania</td>\n",
       "      <td>17 how sun drive</td>\n",
       "      <td>the gazania</td>\n",
       "      <td>condo</td>\n",
       "      <td>freehold</td>\n",
       "      <td>2022.0</td>\n",
       "      <td>1.0</td>\n",
       "      <td>1.0</td>\n",
       "      <td>463</td>\n",
       "      <td>NaN</td>\n",
       "      <td>unfurnished</td>\n",
       "      <td>studio, 1, 2, 3, 4, 5 br</td>\n",
       "      <td>250.0</td>\n",
       "      <td>https://www.99.co/singapore/condos-apartments/the-gazania</td>\n",
       "      <td>1.344334</td>\n",
       "      <td>103.87869</td>\n",
       "      <td>0</td>\n",
       "      <td>upper paya lebar</td>\n",
       "      <td>serangoon</td>\n",
       "    </tr>\n",
       "  </tbody>\n",
       "</table>\n",
       "</div>"
      ],
      "text/plain": [
       "   listing_id                                title           address  \\\n",
       "0      777912  1 bed condo for sale in the gazania  17 how sun drive   \n",
       "\n",
       "  property_name property_type    tenure  built_year  num_beds  num_baths  \\\n",
       "0   the gazania         condo  freehold      2022.0       1.0        1.0   \n",
       "\n",
       "   size_sqft floor_level   furnishing      available_unit_types  \\\n",
       "0        463         NaN  unfurnished  studio, 1, 2, 3, 4, 5 br   \n",
       "\n",
       "   total_num_units                                       property_details_url  \\\n",
       "0            250.0  https://www.99.co/singapore/condos-apartments/the-gazania   \n",
       "\n",
       "        lat        lng  elevation           subzone planning_area  \n",
       "0  1.344334  103.87869          0  upper paya lebar     serangoon  "
      ]
     },
     "execution_count": 66,
     "metadata": {},
     "output_type": "execute_result"
    }
   ],
   "source": [
    "test_df = pd.read_csv('../input/test.csv')\n",
    "test_df.head(1)"
   ]
  },
  {
   "cell_type": "code",
   "execution_count": 67,
   "metadata": {},
   "outputs": [
    {
     "name": "stdout",
     "output_type": "stream",
     "text": [
      "(7000, 20)\n"
     ]
    },
    {
     "data": {
      "text/plain": [
       "listing_id                 0\n",
       "title                      0\n",
       "address                    2\n",
       "property_name              0\n",
       "property_type              0\n",
       "tenure                   637\n",
       "built_year               358\n",
       "num_beds                  35\n",
       "num_baths                152\n",
       "size_sqft                  0\n",
       "floor_level             5844\n",
       "furnishing                 0\n",
       "available_unit_types     520\n",
       "total_num_units         1900\n",
       "property_details_url       0\n",
       "lat                        0\n",
       "lng                        0\n",
       "elevation                  0\n",
       "subzone                   33\n",
       "planning_area             33\n",
       "dtype: int64"
      ]
     },
     "metadata": {},
     "output_type": "display_data"
    },
    {
     "name": "stderr",
     "output_type": "stream",
     "text": [
      "Processing Function 'preprocess_planning_area' executed in 0.0060s: 100%|██████████| 13/13 [00:17<00:00,  1.38s/it]       "
     ]
    },
    {
     "name": "stdout",
     "output_type": "stream",
     "text": [
      "(7000, 16)\n"
     ]
    },
    {
     "name": "stderr",
     "output_type": "stream",
     "text": [
      "\n"
     ]
    },
    {
     "data": {
      "text/plain": [
       "built_year                   291\n",
       "num_beds                       0\n",
       "num_baths                      0\n",
       "size_sqft                      0\n",
       "lat                            0\n",
       "lng                            0\n",
       "property_type_cat              0\n",
       "tenure_cat                     0\n",
       "floor_level_cat                0\n",
       "total_level_cat                0\n",
       "furnishing_cat                 0\n",
       "number_of_types_available      0\n",
       "has_studio                     0\n",
       "min_br_available               0\n",
       "max_br_available               0\n",
       "planning_area_cat              0\n",
       "dtype: int64"
      ]
     },
     "metadata": {},
     "output_type": "display_data"
    }
   ],
   "source": [
    "print(test_df.shape)\n",
    "display(test_df.isnull().sum())\n",
    "test_df_clean = DataPreprocessor.data_preprocessing_v1(test_df, test=True, uncertain=False, drop_na=False, remove_original_attributes=True)\n",
    "print(test_df_clean.shape)\n",
    "display(test_df_clean.isnull().sum())"
   ]
  },
  {
   "cell_type": "code",
   "execution_count": 51,
   "metadata": {},
   "outputs": [
    {
     "data": {
      "text/html": [
       "<div>\n",
       "<style scoped>\n",
       "    .dataframe tbody tr th:only-of-type {\n",
       "        vertical-align: middle;\n",
       "    }\n",
       "\n",
       "    .dataframe tbody tr th {\n",
       "        vertical-align: top;\n",
       "    }\n",
       "\n",
       "    .dataframe thead th {\n",
       "        text-align: right;\n",
       "    }\n",
       "</style>\n",
       "<table border=\"1\" class=\"dataframe\">\n",
       "  <thead>\n",
       "    <tr style=\"text-align: right;\">\n",
       "      <th></th>\n",
       "      <th>built_year</th>\n",
       "      <th>num_beds</th>\n",
       "      <th>num_baths</th>\n",
       "      <th>size_sqft</th>\n",
       "      <th>lat</th>\n",
       "      <th>lng</th>\n",
       "      <th>property_type_cat</th>\n",
       "      <th>tenure_cat</th>\n",
       "      <th>floor_level_cat</th>\n",
       "      <th>total_level_cat</th>\n",
       "      <th>furnishing_cat</th>\n",
       "      <th>number_of_types_available</th>\n",
       "      <th>has_studio</th>\n",
       "      <th>min_br_available</th>\n",
       "      <th>max_br_available</th>\n",
       "      <th>planning_area_cat</th>\n",
       "    </tr>\n",
       "  </thead>\n",
       "  <tbody>\n",
       "    <tr>\n",
       "      <th>0</th>\n",
       "      <td>2022.0</td>\n",
       "      <td>1.0</td>\n",
       "      <td>1.0</td>\n",
       "      <td>463</td>\n",
       "      <td>1.344334</td>\n",
       "      <td>103.878690</td>\n",
       "      <td>5.0</td>\n",
       "      <td>2.0</td>\n",
       "      <td>7.0</td>\n",
       "      <td>6.0</td>\n",
       "      <td>0.0</td>\n",
       "      <td>6</td>\n",
       "      <td>1</td>\n",
       "      <td>1</td>\n",
       "      <td>5</td>\n",
       "      <td>3.0</td>\n",
       "    </tr>\n",
       "    <tr>\n",
       "      <th>1</th>\n",
       "      <td>2017.0</td>\n",
       "      <td>3.0</td>\n",
       "      <td>3.0</td>\n",
       "      <td>1033</td>\n",
       "      <td>1.380281</td>\n",
       "      <td>103.943878</td>\n",
       "      <td>5.0</td>\n",
       "      <td>1.0</td>\n",
       "      <td>3.0</td>\n",
       "      <td>6.0</td>\n",
       "      <td>3.0</td>\n",
       "      <td>6</td>\n",
       "      <td>1</td>\n",
       "      <td>1</td>\n",
       "      <td>5</td>\n",
       "      <td>14.0</td>\n",
       "    </tr>\n",
       "    <tr>\n",
       "      <th>2</th>\n",
       "      <td>2007.0</td>\n",
       "      <td>1.0</td>\n",
       "      <td>3.0</td>\n",
       "      <td>570</td>\n",
       "      <td>1.294668</td>\n",
       "      <td>103.850074</td>\n",
       "      <td>5.0</td>\n",
       "      <td>1.0</td>\n",
       "      <td>7.0</td>\n",
       "      <td>6.0</td>\n",
       "      <td>2.0</td>\n",
       "      <td>4</td>\n",
       "      <td>1</td>\n",
       "      <td>1</td>\n",
       "      <td>3</td>\n",
       "      <td>19.0</td>\n",
       "    </tr>\n",
       "    <tr>\n",
       "      <th>3</th>\n",
       "      <td>2017.0</td>\n",
       "      <td>3.0</td>\n",
       "      <td>2.0</td>\n",
       "      <td>1216</td>\n",
       "      <td>1.373120</td>\n",
       "      <td>103.746094</td>\n",
       "      <td>0.0</td>\n",
       "      <td>1.0</td>\n",
       "      <td>7.0</td>\n",
       "      <td>6.0</td>\n",
       "      <td>3.0</td>\n",
       "      <td>5</td>\n",
       "      <td>0</td>\n",
       "      <td>1</td>\n",
       "      <td>5</td>\n",
       "      <td>34.0</td>\n",
       "    </tr>\n",
       "    <tr>\n",
       "      <th>4</th>\n",
       "      <td>1973.0</td>\n",
       "      <td>3.0</td>\n",
       "      <td>2.0</td>\n",
       "      <td>936</td>\n",
       "      <td>1.341468</td>\n",
       "      <td>103.849047</td>\n",
       "      <td>0.0</td>\n",
       "      <td>1.0</td>\n",
       "      <td>7.0</td>\n",
       "      <td>6.0</td>\n",
       "      <td>3.0</td>\n",
       "      <td>4</td>\n",
       "      <td>0</td>\n",
       "      <td>1</td>\n",
       "      <td>4</td>\n",
       "      <td>2.0</td>\n",
       "    </tr>\n",
       "  </tbody>\n",
       "</table>\n",
       "</div>"
      ],
      "text/plain": [
       "   built_year  num_beds  num_baths  size_sqft       lat         lng  \\\n",
       "0      2022.0       1.0        1.0        463  1.344334  103.878690   \n",
       "1      2017.0       3.0        3.0       1033  1.380281  103.943878   \n",
       "2      2007.0       1.0        3.0        570  1.294668  103.850074   \n",
       "3      2017.0       3.0        2.0       1216  1.373120  103.746094   \n",
       "4      1973.0       3.0        2.0        936  1.341468  103.849047   \n",
       "\n",
       "   property_type_cat  tenure_cat  floor_level_cat  total_level_cat  \\\n",
       "0                5.0         2.0              7.0              6.0   \n",
       "1                5.0         1.0              3.0              6.0   \n",
       "2                5.0         1.0              7.0              6.0   \n",
       "3                0.0         1.0              7.0              6.0   \n",
       "4                0.0         1.0              7.0              6.0   \n",
       "\n",
       "   furnishing_cat  number_of_types_available  has_studio  min_br_available  \\\n",
       "0             0.0                          6           1                 1   \n",
       "1             3.0                          6           1                 1   \n",
       "2             2.0                          4           1                 1   \n",
       "3             3.0                          5           0                 1   \n",
       "4             3.0                          4           0                 1   \n",
       "\n",
       "   max_br_available  planning_area_cat  \n",
       "0                 5                3.0  \n",
       "1                 5               14.0  \n",
       "2                 3               19.0  \n",
       "3                 5               34.0  \n",
       "4                 4                2.0  "
      ]
     },
     "execution_count": 51,
     "metadata": {},
     "output_type": "execute_result"
    }
   ],
   "source": [
    "test_df_clean.head()"
   ]
  },
  {
   "cell_type": "code",
   "execution_count": 88,
   "metadata": {},
   "outputs": [
    {
     "data": {
      "text/plain": [
       "array([0.85646519, 0.8303049 , 0.86777928, 0.84132341, 0.8261944 ,\n",
       "       0.88467253, 0.6824861 , 0.81553169, 0.8809139 , 0.84451615,\n",
       "       0.80063276, 0.7664306 , 0.91409095, 0.83624354, 0.85442345,\n",
       "       0.80735794, 0.81832455, 0.87119147, 0.84003337, 0.82404424,\n",
       "       0.82684239, 0.85935684, 0.70797199, 0.87880655, 0.83755749,\n",
       "       0.87233187, 0.86104091, 0.87234352, 0.89551111, 0.83522096])"
      ]
     },
     "execution_count": 88,
     "metadata": {},
     "output_type": "execute_result"
    }
   ],
   "source": [
    "xgb_regressor = xgb.XGBRegressor(\n",
    "    n_estimators =115, \n",
    "    max_depth = 15, \n",
    "    gamma = 8.973856858008121,\n",
    "    reg_alpha = 115,\n",
    "    min_child_weight=41,\n",
    "    colsample_bytree=0.4429943486665428)\n",
    "\n",
    "# define model evaluation method\n",
    "cv = RepeatedKFold(n_splits=10, n_repeats=3, random_state=1)\n",
    "# evaluate model\n",
    "scores = cross_val_score(xgb_regressor, X, y, scoring='r2', cv=cv, n_jobs=-1)\n",
    "scores"
   ]
  },
  {
   "cell_type": "code",
   "execution_count": 89,
   "metadata": {},
   "outputs": [],
   "source": [
    "xgb_regressor.fit(X, y)\n",
    "\n",
    "test_df_model = test_df_clean#.drop(['lat', 'lng'], axis=1,inplace=False)\n",
    "X_test = test_df_model.astype(float)\n",
    "output = pd.DataFrame(xgb_regressor.predict(X_test)).reset_index().rename(columns={\"index\": \"Id\", 0: \"Predicted\"})"
   ]
  },
  {
   "cell_type": "code",
   "execution_count": 90,
   "metadata": {},
   "outputs": [
    {
     "data": {
      "text/html": [
       "<div>\n",
       "<style scoped>\n",
       "    .dataframe tbody tr th:only-of-type {\n",
       "        vertical-align: middle;\n",
       "    }\n",
       "\n",
       "    .dataframe tbody tr th {\n",
       "        vertical-align: top;\n",
       "    }\n",
       "\n",
       "    .dataframe thead th {\n",
       "        text-align: right;\n",
       "    }\n",
       "</style>\n",
       "<table border=\"1\" class=\"dataframe\">\n",
       "  <thead>\n",
       "    <tr style=\"text-align: right;\">\n",
       "      <th></th>\n",
       "      <th>Id</th>\n",
       "      <th>Predicted</th>\n",
       "    </tr>\n",
       "  </thead>\n",
       "  <tbody>\n",
       "    <tr>\n",
       "      <th>0</th>\n",
       "      <td>0</td>\n",
       "      <td>1309702.875</td>\n",
       "    </tr>\n",
       "    <tr>\n",
       "      <th>1</th>\n",
       "      <td>1</td>\n",
       "      <td>1412471.375</td>\n",
       "    </tr>\n",
       "    <tr>\n",
       "      <th>2</th>\n",
       "      <td>2</td>\n",
       "      <td>1322405.625</td>\n",
       "    </tr>\n",
       "    <tr>\n",
       "      <th>3</th>\n",
       "      <td>3</td>\n",
       "      <td>652928.625</td>\n",
       "    </tr>\n",
       "    <tr>\n",
       "      <th>4</th>\n",
       "      <td>4</td>\n",
       "      <td>573423.500</td>\n",
       "    </tr>\n",
       "  </tbody>\n",
       "</table>\n",
       "</div>"
      ],
      "text/plain": [
       "   Id    Predicted\n",
       "0   0  1309702.875\n",
       "1   1  1412471.375\n",
       "2   2  1322405.625\n",
       "3   3   652928.625\n",
       "4   4   573423.500"
      ]
     },
     "execution_count": 90,
     "metadata": {},
     "output_type": "execute_result"
    }
   ],
   "source": [
    "output.head()"
   ]
  },
  {
   "cell_type": "code",
   "execution_count": 61,
   "metadata": {},
   "outputs": [],
   "source": [
    "output.to_csv('submission.csv', index=False)"
   ]
  },
  {
   "cell_type": "markdown",
   "metadata": {},
   "source": [
    "# Hyperopt"
   ]
  },
  {
   "cell_type": "code",
   "execution_count": 83,
   "metadata": {},
   "outputs": [
    {
     "name": "stdout",
     "output_type": "stream",
     "text": [
      "100%|██████████| 100/100 [01:37<00:00,  1.02trial/s, best loss: 1840153.4787116193]\n"
     ]
    }
   ],
   "source": [
    "import warnings\n",
    "warnings.filterwarnings('ignore')\n",
    "# XGB parameters\n",
    "xgb_reg_params={\n",
    "    'n_estimators': hp.quniform('n_estimators', 100, 500, 10),\n",
    "    'max_depth': hp.quniform(\"max_depth\", 5, 20, 1),\n",
    "    'gamma': hp.uniform('gamma', 1,9),\n",
    "    'reg_alpha' : hp.quniform('reg_alpha', 40,180,1),\n",
    "    'colsample_bytree' : hp.uniform('colsample_bytree', 0,1),\n",
    "    'min_child_weight' : hp.quniform('min_child_weight', 10, 50, 1),\n",
    "}\n",
    "xgb_fit_params = {\n",
    "    'eval_metric': 'rmse',\n",
    "    'early_stopping_rounds': 10,\n",
    "    'verbose': True\n",
    "}\n",
    "xgb_para = dict()\n",
    "xgb_para['reg_params'] = xgb_reg_params\n",
    "xgb_para['fit_params'] = xgb_fit_params\n",
    "xgb_para['loss_func' ] = lambda y, pred: np.sqrt(mean_squared_error(y, pred))\n",
    "xgb_para['score_func' ] = lambda y, pred: r2_score(y, pred)\n",
    "\n",
    "# Random Forest\n",
    "random_forest_reg_params={\n",
    "    'n_estimators':hp.uniform('n_estimators',100,500),\n",
    "    'max_depth':hp.uniform('max_depth',5,50),\n",
    "    'min_samples_leaf':hp.uniform('min_samples_leaf',1,5),\n",
    "    'min_samples_split':hp.uniform('min_samples_split',2,6)}\n",
    "random_forest_fit_params = {\n",
    "    'eval_metric': 'rmse',\n",
    "    'early_stopping_rounds': 10,\n",
    "    'verbose': True\n",
    "}\n",
    "random_forest_para = dict()\n",
    "random_forest_para['reg_params'] = random_forest_reg_params\n",
    "random_forest_para['fit_params'] = random_forest_fit_params\n",
    "random_forest_para['loss_func' ] = lambda y, pred: np.sqrt(mean_squared_error(y, pred))\n",
    "random_forest_para['score_func' ] = lambda y, pred: r2_score(y, pred)\n",
    "\n",
    "\n",
    "\n",
    "class HPOpt(object):\n",
    "\n",
    "    def __init__(self, x_train, x_test, y_train, y_test):\n",
    "        self.x_train = x_train\n",
    "        self.x_test  = x_test\n",
    "        self.y_train = y_train\n",
    "        self.y_test  = y_test\n",
    "\n",
    "    def process(self, fn_name, space, trials, algo, max_evals):\n",
    "        fn = getattr(self, fn_name)\n",
    "        try:\n",
    "            result = fmin(fn=fn, space=space, algo=algo, max_evals=max_evals, trials=trials)\n",
    "        except Exception as e:\n",
    "            return {'status': STATUS_FAIL,\n",
    "                    'exception': str(e)}\n",
    "        return result, trials\n",
    "\n",
    "    def xgb_reg(self, para):\n",
    "        space = para['reg_params']\n",
    "        reg = xgb.XGBRegressor(\n",
    "            n_estimators =int(space['n_estimators']), \n",
    "            max_depth = int(space['max_depth']),\n",
    "            gamma = float(space['gamma']),\n",
    "            reg_alpha = int(space['reg_alpha']),\n",
    "            colsample_bytree=float(space['colsample_bytree']),\n",
    "            min_child_weight=int(space['min_child_weight']),\n",
    "            n_jobs = -1\n",
    "        )\n",
    "        return self.train_reg(reg, para)\n",
    "\n",
    "    def random_forest_reg(self, para):\n",
    "        space = para['reg_params']\n",
    "        reg = RandomForestRegressor(\n",
    "            n_estimators=int(space['n_estimators']),\n",
    "            max_depth=int(space['max_depth']),\n",
    "            min_samples_leaf=int(space['min_samples_leaf']),\n",
    "            min_samples_split=int(space['min_samples_split']),\n",
    "            n_jobs=-1\n",
    "        )\n",
    "        return self.train_reg(reg, para)\n",
    "\n",
    "#     def ctb_reg(self, para):\n",
    "#         reg = ctb.CatBoostRegressor(**para['reg_params'])\n",
    "#         return self.train_reg(reg, para)\n",
    "\n",
    "    def train_reg(self, reg, para):\n",
    "        reg.fit(self.x_train, self.y_train)\n",
    "        pred = reg.predict(self.x_test)\n",
    "        loss = para['loss_func'](self.y_test, pred)\n",
    "        score = para['score_func'](self.y_test, pred)\n",
    "        return {'loss': loss, 'score': score,'status': STATUS_OK}\n",
    "\n",
    "X_train, X_test, y_train, y_test = train_test_split(X, y)\n",
    "obj = HPOpt(X_train, X_test, y_train, y_test)\n",
    "xgb_opt = obj.process(fn_name='xgb_reg', space=xgb_para, trials=Trials(), algo=tpe.suggest, max_evals=100)\n",
    "\n",
    "# X_train, X_test, y_train, y_test = train_test_split(X_nonNa, y_nonNa)\n",
    "# obj = HPOpt(X_train, X_test, y_train, y_test)\n",
    "# random_forest_opt = obj.process(fn_name='random_forest_reg', space=random_forest_para, trials=Trials(), algo=tpe.suggest, max_evals=100)"
   ]
  },
  {
   "cell_type": "code",
   "execution_count": 84,
   "metadata": {},
   "outputs": [
    {
     "data": {
      "text/plain": [
       "{'colsample_bytree': 0.4429943486665428,\n",
       " 'gamma': 8.973856858008121,\n",
       " 'max_depth': 15.0,\n",
       " 'min_child_weight': 41.0,\n",
       " 'n_estimators': 230.0,\n",
       " 'reg_alpha': 115.0}"
      ]
     },
     "execution_count": 84,
     "metadata": {},
     "output_type": "execute_result"
    }
   ],
   "source": [
    "space = xgb_opt[0]\n",
    "space"
   ]
  },
  {
   "cell_type": "code",
   "execution_count": 86,
   "metadata": {},
   "outputs": [
    {
     "data": {
      "text/plain": [
       "array([0.84233511, 0.84173744, 0.84436965, 0.83282322, 0.82495819,\n",
       "       0.88905276, 0.68565412, 0.83379242, 0.8786468 , 0.82242212,\n",
       "       0.79783576, 0.76441579, 0.92339713, 0.81029061, 0.85482194,\n",
       "       0.79908614, 0.82903688, 0.87478449, 0.8311869 , 0.84372085,\n",
       "       0.81536423, 0.85828438, 0.70317336, 0.88403405, 0.8273061 ,\n",
       "       0.84374052, 0.86709506, 0.87130684, 0.90220887, 0.8446138 ])"
      ]
     },
     "execution_count": 86,
     "metadata": {},
     "output_type": "execute_result"
    }
   ],
   "source": [
    "xgb_regressor = xgb.XGBRegressor(\n",
    "    n_estimators =300, \n",
    "    max_depth = int(space['max_depth']), \n",
    "    gamma = float(space['gamma']),\n",
    "    reg_alpha = int(space['reg_alpha']),\n",
    "    min_child_weight=int(space['min_child_weight']),\n",
    "    colsample_bytree=float(space['colsample_bytree']))\n",
    "\n",
    "# define model evaluation method\n",
    "cv = RepeatedKFold(n_splits=10, n_repeats=3, random_state=1)\n",
    "# evaluate model\n",
    "scores = cross_val_score(xgb_regressor, X, y, scoring='r2', cv=cv, n_jobs=-1)\n",
    "scores"
   ]
  },
  {
   "cell_type": "code",
   "execution_count": 87,
   "metadata": {},
   "outputs": [
    {
     "data": {
      "text/plain": [
       "0.8347165176902147"
      ]
     },
     "execution_count": 87,
     "metadata": {},
     "output_type": "execute_result"
    }
   ],
   "source": [
    "# non-optimzed: r2= 0.7817454737515114\n",
    "np.mean(scores)"
   ]
  },
  {
   "cell_type": "code",
   "execution_count": 77,
   "metadata": {},
   "outputs": [
    {
     "data": {
      "text/plain": [
       "0.7817454737515114"
      ]
     },
     "execution_count": 77,
     "metadata": {},
     "output_type": "execute_result"
    }
   ],
   "source": [
    "np.mean(scores)"
   ]
  },
  {
   "cell_type": "code",
   "execution_count": null,
   "metadata": {},
   "outputs": [],
   "source": [
    "space = xgb_opt[0]\n",
    "regressor = xgb.XGBRegressor(\n",
    "    n_estimators =180, \n",
    "    max_depth = int(space['max_depth']), \n",
    "#     gamma = space['gamma'],\n",
    "#     reg_alpha = int(space['reg_alpha']),\n",
    "    min_child_weight=int(space['min_child_weight']),\n",
    "    colsample_bytree=int(space['colsample_bytree']))\n",
    "X_train, X_test, y_train, y_test = train_test_split(X, y)\n",
    "regressor.fit(X_train, y_train)\n",
    "# regressor"
   ]
  },
  {
   "cell_type": "code",
   "execution_count": null,
   "metadata": {},
   "outputs": [],
   "source": [
    "# define model evaluation method\n",
    "cv = RepeatedKFold(n_splits=10, n_repeats=3, random_state=1)\n",
    "# evaluate model\n",
    "scores = cross_val_score(regressor, X, y, scoring='neg_mean_absolute_error', cv=cv, n_jobs=-1)\n",
    "scores"
   ]
  },
  {
   "cell_type": "code",
   "execution_count": null,
   "metadata": {},
   "outputs": [],
   "source": [
    "space = random_forest_opt[0]\n",
    "regressor = RandomForestRegressor(\n",
    "    n_estimators=int(space['n_estimators']),\n",
    "    max_depth=int(space['max_depth']),\n",
    "    min_samples_leaf=int(space['min_samples_leaf']),\n",
    "    min_samples_split=int(space['min_samples_split']),\n",
    "    n_jobs=-1\n",
    ")\n",
    "X_train, X_test, y_train, y_test = train_test_split(X_nonNa, y_nonNa)\n",
    "regressor.fit(X_train, y_train)"
   ]
  }
 ],
 "metadata": {
  "kernelspec": {
   "display_name": "Python 3.10.4 ('CS5228')",
   "language": "python",
   "name": "python3"
  },
  "language_info": {
   "codemirror_mode": {
    "name": "ipython",
    "version": 3
   },
   "file_extension": ".py",
   "mimetype": "text/x-python",
   "name": "python",
   "nbconvert_exporter": "python",
   "pygments_lexer": "ipython3",
   "version": "3.10.4"
  },
  "orig_nbformat": 4,
  "vscode": {
   "interpreter": {
    "hash": "72eae7d34b5656822eedfc64712dab781074c9b4bb5ae274fcb234cbc5d651d5"
   }
  }
 },
 "nbformat": 4,
 "nbformat_minor": 2
}
