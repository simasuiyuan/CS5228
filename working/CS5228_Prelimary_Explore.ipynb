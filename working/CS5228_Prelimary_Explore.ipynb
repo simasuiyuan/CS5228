{
 "cells": [
  {
   "cell_type": "code",
   "execution_count": 1,
   "metadata": {},
   "outputs": [],
   "source": [
    "import os\n",
    "import sys\n",
    "import zipfile\n",
    "import pandas as pd\n",
    "import numpy as np\n",
    "import plotly.express as px\n",
    "import matplotlib.pyplot as plt\n",
    "\n",
    "%matplotlib inline\n",
    "\n",
    "sys.path.append('../')\n",
    "from src.data_preprocess import DataPreprocessor\n",
    "\n",
    "pd.set_option('display.max_colwidth', 2000)\n",
    "\n",
    "%load_ext autoreload\n",
    "%autoreload 2"
   ]
  },
  {
   "cell_type": "code",
   "execution_count": 2,
   "metadata": {},
   "outputs": [
    {
     "data": {
      "text/html": [
       "<div>\n",
       "<style scoped>\n",
       "    .dataframe tbody tr th:only-of-type {\n",
       "        vertical-align: middle;\n",
       "    }\n",
       "\n",
       "    .dataframe tbody tr th {\n",
       "        vertical-align: top;\n",
       "    }\n",
       "\n",
       "    .dataframe thead th {\n",
       "        text-align: right;\n",
       "    }\n",
       "</style>\n",
       "<table border=\"1\" class=\"dataframe\">\n",
       "  <thead>\n",
       "    <tr style=\"text-align: right;\">\n",
       "      <th></th>\n",
       "      <th>listing_id</th>\n",
       "      <th>title</th>\n",
       "      <th>address</th>\n",
       "      <th>property_name</th>\n",
       "      <th>property_type</th>\n",
       "      <th>tenure</th>\n",
       "      <th>built_year</th>\n",
       "      <th>num_beds</th>\n",
       "      <th>num_baths</th>\n",
       "      <th>size_sqft</th>\n",
       "      <th>...</th>\n",
       "      <th>furnishing</th>\n",
       "      <th>available_unit_types</th>\n",
       "      <th>total_num_units</th>\n",
       "      <th>property_details_url</th>\n",
       "      <th>lat</th>\n",
       "      <th>lng</th>\n",
       "      <th>elevation</th>\n",
       "      <th>subzone</th>\n",
       "      <th>planning_area</th>\n",
       "      <th>price</th>\n",
       "    </tr>\n",
       "  </thead>\n",
       "  <tbody>\n",
       "    <tr>\n",
       "      <th>0</th>\n",
       "      <td>122881</td>\n",
       "      <td>hdb flat for sale in 866 yishun street 81</td>\n",
       "      <td>sembawang / yishun (d27)</td>\n",
       "      <td>866 yishun street 81</td>\n",
       "      <td>hdb 4 rooms</td>\n",
       "      <td>NaN</td>\n",
       "      <td>1988.0</td>\n",
       "      <td>3.0</td>\n",
       "      <td>2.0</td>\n",
       "      <td>1115</td>\n",
       "      <td>...</td>\n",
       "      <td>unspecified</td>\n",
       "      <td>NaN</td>\n",
       "      <td>116.0</td>\n",
       "      <td>https://www.99.co/singapore/hdb/866-yishun-street-81-adxawp85buupmsq7gwdjverc</td>\n",
       "      <td>1.414399</td>\n",
       "      <td>103.837196</td>\n",
       "      <td>0</td>\n",
       "      <td>yishun south</td>\n",
       "      <td>yishun</td>\n",
       "      <td>514500.0</td>\n",
       "    </tr>\n",
       "    <tr>\n",
       "      <th>1</th>\n",
       "      <td>259374</td>\n",
       "      <td>hdb flat for sale in 506b serangoon north avenue 4</td>\n",
       "      <td>hougang / punggol / sengkang (d19)</td>\n",
       "      <td>hdb-serangoon estate</td>\n",
       "      <td>hdb</td>\n",
       "      <td>99-year leasehold</td>\n",
       "      <td>1992.0</td>\n",
       "      <td>4.0</td>\n",
       "      <td>2.0</td>\n",
       "      <td>1575</td>\n",
       "      <td>...</td>\n",
       "      <td>unspecified</td>\n",
       "      <td>1, 2, 3, 4, 5, 6 br</td>\n",
       "      <td>NaN</td>\n",
       "      <td>https://www.99.co/singapore/hdb/hdbserangoon-estate-demrpm6ryc3l9buf846erprb</td>\n",
       "      <td>1.372597</td>\n",
       "      <td>103.875625</td>\n",
       "      <td>0</td>\n",
       "      <td>serangoon north</td>\n",
       "      <td>serangoon</td>\n",
       "      <td>995400.0</td>\n",
       "    </tr>\n",
       "  </tbody>\n",
       "</table>\n",
       "<p>2 rows × 21 columns</p>\n",
       "</div>"
      ],
      "text/plain": [
       "   listing_id                                               title  \\\n",
       "0      122881           hdb flat for sale in 866 yishun street 81   \n",
       "1      259374  hdb flat for sale in 506b serangoon north avenue 4   \n",
       "\n",
       "                              address         property_name property_type  \\\n",
       "0            sembawang / yishun (d27)  866 yishun street 81   hdb 4 rooms   \n",
       "1  hougang / punggol / sengkang (d19)  hdb-serangoon estate           hdb   \n",
       "\n",
       "              tenure  built_year  num_beds  num_baths  size_sqft  ...  \\\n",
       "0                NaN      1988.0       3.0        2.0       1115  ...   \n",
       "1  99-year leasehold      1992.0       4.0        2.0       1575  ...   \n",
       "\n",
       "    furnishing available_unit_types total_num_units  \\\n",
       "0  unspecified                  NaN           116.0   \n",
       "1  unspecified  1, 2, 3, 4, 5, 6 br             NaN   \n",
       "\n",
       "                                                            property_details_url  \\\n",
       "0  https://www.99.co/singapore/hdb/866-yishun-street-81-adxawp85buupmsq7gwdjverc   \n",
       "1   https://www.99.co/singapore/hdb/hdbserangoon-estate-demrpm6ryc3l9buf846erprb   \n",
       "\n",
       "        lat         lng  elevation          subzone planning_area     price  \n",
       "0  1.414399  103.837196          0     yishun south        yishun  514500.0  \n",
       "1  1.372597  103.875625          0  serangoon north     serangoon  995400.0  \n",
       "\n",
       "[2 rows x 21 columns]"
      ]
     },
     "execution_count": 2,
     "metadata": {},
     "output_type": "execute_result"
    }
   ],
   "source": [
    "train_df = pd.read_csv('../input/train.csv')\n",
    "train_df.head(2)"
   ]
  },
  {
   "cell_type": "code",
   "execution_count": 5,
   "metadata": {},
   "outputs": [
    {
     "name": "stdout",
     "output_type": "stream",
     "text": [
      "(20254, 21)\n"
     ]
    },
    {
     "data": {
      "text/plain": [
       "listing_id                  0\n",
       "title                       0\n",
       "address                     0\n",
       "property_name               0\n",
       "property_type               0\n",
       "tenure                   1723\n",
       "built_year                922\n",
       "num_beds                   80\n",
       "num_baths                 434\n",
       "size_sqft                   0\n",
       "floor_level             16746\n",
       "furnishing                  0\n",
       "available_unit_types     1441\n",
       "total_num_units          5652\n",
       "property_details_url        0\n",
       "lat                         0\n",
       "lng                         0\n",
       "elevation                   0\n",
       "subzone                   113\n",
       "planning_area             113\n",
       "price                       0\n",
       "dtype: int64"
      ]
     },
     "metadata": {},
     "output_type": "display_data"
    },
    {
     "name": "stderr",
     "output_type": "stream",
     "text": [
      "Processing Function 'preprocess_planning_area' executed in 0.0468s: 100%|██████████| 13/13 [02:48<00:00, 12.97s/it]        "
     ]
    },
    {
     "name": "stdout",
     "output_type": "stream",
     "text": [
      "(16127, 21)\n"
     ]
    },
    {
     "name": "stderr",
     "output_type": "stream",
     "text": [
      "\n"
     ]
    },
    {
     "data": {
      "text/plain": [
       "built_year                   494\n",
       "num_beds                       0\n",
       "num_baths                      0\n",
       "size_sqft                      0\n",
       "furnishing                     0\n",
       "property_details_url           0\n",
       "lat                            0\n",
       "lng                            0\n",
       "elevation                      0\n",
       "planning_area                  0\n",
       "price                          0\n",
       "property_type_cat              0\n",
       "tenure_cat                     0\n",
       "floor_level_cat                0\n",
       "total_level_cat                0\n",
       "furnishing_cat                 0\n",
       "number_of_types_available      0\n",
       "has_studio                     0\n",
       "min_br_available               0\n",
       "max_br_available               0\n",
       "planning_area_cat              0\n",
       "dtype: int64"
      ]
     },
     "metadata": {},
     "output_type": "display_data"
    }
   ],
   "source": [
    "print(train_df.shape)\n",
    "display(train_df.isnull().sum())\n",
    "train_df_clean = DataPreprocessor.data_preprocessing_v1(train_df, test=False, uncertain=False, drop_na=False, remove_original_attributes=True)\n",
    "print(train_df_clean.shape)\n",
    "display(train_df_clean.isnull().sum())"
   ]
  },
  {
   "cell_type": "code",
   "execution_count": null,
   "metadata": {},
   "outputs": [],
   "source": []
  }
 ],
 "metadata": {
  "kernelspec": {
   "display_name": "Python 3.7.10 ('deeplearn_course')",
   "language": "python",
   "name": "python3"
  },
  "language_info": {
   "codemirror_mode": {
    "name": "ipython",
    "version": 3
   },
   "file_extension": ".py",
   "mimetype": "text/x-python",
   "name": "python",
   "nbconvert_exporter": "python",
   "pygments_lexer": "ipython3",
   "version": "3.7.10"
  },
  "orig_nbformat": 4,
  "vscode": {
   "interpreter": {
    "hash": "e22b1eee371346a4bb8d6d7d5605168edf2495926f53609f45bc0abb51b1607d"
   }
  }
 },
 "nbformat": 4,
 "nbformat_minor": 2
}
