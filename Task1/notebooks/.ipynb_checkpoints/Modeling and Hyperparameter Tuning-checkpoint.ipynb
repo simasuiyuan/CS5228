{
 "cells": [
  {
   "cell_type": "code",
   "execution_count": null,
   "metadata": {
    "ExecuteTime": {
     "start_time": "2022-11-06T07:24:55.420Z"
    }
   },
   "outputs": [],
   "source": [
    "import os\n",
    "import sys\n",
    "import zipfile\n",
    "import pandas as pd\n",
    "import numpy as np\n",
    "import plotly.express as px\n",
    "import matplotlib.pyplot as plt\n",
    "\n",
    "%matplotlib inline\n",
    "\n",
    "sys.path.append('../')\n",
    "from src.data_preprocess import DataPreprocessor\n",
    "\n",
    "pd.set_option('display.max_colwidth', 2000)\n",
    "\n",
    "%load_ext autoreload\n",
    "%autoreload 2"
   ]
  },
  {
   "cell_type": "code",
   "execution_count": null,
   "metadata": {
    "ExecuteTime": {
     "start_time": "2022-11-06T07:25:00.193Z"
    }
   },
   "outputs": [],
   "source": [
    "train_df = pd.read_csv('../input/train.csv')\n",
    "train_df.head(2)"
   ]
  },
  {
   "cell_type": "code",
   "execution_count": null,
   "metadata": {
    "ExecuteTime": {
     "start_time": "2022-11-06T07:25:04.726Z"
    }
   },
   "outputs": [],
   "source": [
    "sg_primary_schools_df = pd.read_csv('../input/auxiliary-data/sg-primary-schools.csv')\n",
    "sg_primary_schools_df.head(2)"
   ]
  },
  {
   "cell_type": "code",
   "execution_count": null,
   "metadata": {
    "ExecuteTime": {
     "start_time": "2022-11-06T07:25:08.715Z"
    }
   },
   "outputs": [],
   "source": [
    "sg_secondary_schools_df = pd.read_csv('../input/auxiliary-data/sg-secondary-schools.csv')\n",
    "sg_secondary_schools_df.head(2)"
   ]
  },
  {
   "cell_type": "code",
   "execution_count": null,
   "metadata": {
    "ExecuteTime": {
     "start_time": "2022-11-06T07:25:13.543Z"
    }
   },
   "outputs": [],
   "source": [
    "sg_shopping_mall_df = pd.read_csv('../input/auxiliary-data/sg-shopping-malls.csv')\n",
    "sg_shopping_mall_df.head(2)"
   ]
  },
  {
   "cell_type": "code",
   "execution_count": null,
   "metadata": {
    "ExecuteTime": {
     "start_time": "2022-11-06T07:25:27.920Z"
    }
   },
   "outputs": [],
   "source": [
    "train_df_clean = DataPreprocessor.data_preprocessing_v2(\n",
    "    train_df, \n",
    "    test=False, \n",
    "    uncertain=False, \n",
    "    drop_na=False, \n",
    "    remove_original_attributes=True,\n",
    "    if_auxiliary=False,\n",
    "    sg_commercial_centres_df=sg_commercial_centres_df,\n",
    "    sg_primary_schools_df=sg_primary_schools_df,\n",
    "    sg_secondary_schools_df=sg_secondary_schools_df,\n",
    "    sg_shopping_mall_df=sg_shopping_mall_df\n",
    ")"
   ]
  },
  {
   "cell_type": "code",
   "execution_count": null,
   "metadata": {
    "ExecuteTime": {
     "start_time": "2022-11-06T07:25:38.347Z"
    }
   },
   "outputs": [],
   "source": [
    "train_df_clean = train_df_clean[train_df_clean.price!=0]"
   ]
  },
  {
   "cell_type": "code",
   "execution_count": null,
   "metadata": {
    "ExecuteTime": {
     "start_time": "2022-11-06T07:25:49.522Z"
    }
   },
   "outputs": [],
   "source": [
    "import xgboost as xgb\n",
    "from sklearn.ensemble import RandomForestRegressor\n",
    "from sklearn.metrics import r2_score\n",
    "from hyperopt import fmin, hp, tpe, STATUS_OK, STATUS_FAIL, Trials\n",
    "from sklearn.model_selection import train_test_split\n",
    "from sklearn.metrics import mean_squared_error\n",
    "from sklearn.model_selection import cross_val_score\n",
    "from sklearn.model_selection import RepeatedKFold"
   ]
  },
  {
   "cell_type": "code",
   "execution_count": null,
   "metadata": {},
   "outputs": [],
   "source": []
  }
 ],
 "metadata": {
  "kernelspec": {
   "display_name": "f10ds_spark_py36",
   "language": "python",
   "name": "f10ds_spark_py36"
  },
  "language_info": {
   "codemirror_mode": {
    "name": "ipython",
    "version": 3
   },
   "file_extension": ".py",
   "mimetype": "text/x-python",
   "name": "python",
   "nbconvert_exporter": "python",
   "pygments_lexer": "ipython3",
   "version": "3.10.4"
  },
  "varInspector": {
   "cols": {
    "lenName": 16,
    "lenType": 16,
    "lenVar": 40
   },
   "kernels_config": {
    "python": {
     "delete_cmd_postfix": "",
     "delete_cmd_prefix": "del ",
     "library": "var_list.py",
     "varRefreshCmd": "print(var_dic_list())"
    },
    "r": {
     "delete_cmd_postfix": ") ",
     "delete_cmd_prefix": "rm(",
     "library": "var_list.r",
     "varRefreshCmd": "cat(var_dic_list()) "
    }
   },
   "types_to_exclude": [
    "module",
    "function",
    "builtin_function_or_method",
    "instance",
    "_Feature"
   ],
   "window_display": false
  }
 },
 "nbformat": 4,
 "nbformat_minor": 5
}
